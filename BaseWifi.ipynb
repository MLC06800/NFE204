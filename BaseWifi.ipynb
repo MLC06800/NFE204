{
 "cells": [
  {
   "cell_type": "code",
   "execution_count": 1,
   "metadata": {
    "collapsed": true
   },
   "outputs": [],
   "source": [
    "from pyArango.connection import *"
   ]
  },
  {
   "cell_type": "code",
   "execution_count": 2,
   "metadata": {
    "collapsed": true
   },
   "outputs": [],
   "source": [
    "import pandas as pd, numpy as np, calendar as cal, datetime as dt"
   ]
  },
  {
   "cell_type": "code",
   "execution_count": 89,
   "metadata": {
    "collapsed": true
   },
   "outputs": [],
   "source": [
    "conn = Connection(username=\"root\", password=\"password\")"
   ]
  },
  {
   "cell_type": "code",
   "execution_count": 90,
   "metadata": {},
   "outputs": [],
   "source": [
    "#db = conn.createDatabase(name=\"wifi4\")\n",
    "db = conn[\"NFE204\"]"
   ]
  },
  {
   "cell_type": "code",
   "execution_count": 99,
   "metadata": {},
   "outputs": [
    {
     "data": {
      "text/plain": [
       "ArangoDB database: NFE204"
      ]
     },
     "execution_count": 99,
     "metadata": {},
     "output_type": "execute_result"
    }
   ],
   "source": [
    "db"
   ]
  },
  {
   "cell_type": "code",
   "execution_count": 100,
   "metadata": {},
   "outputs": [],
   "source": [
    "wifiCollection = db.createCollection(name=\"wifiQuebec\")\n"
   ]
  },
  {
   "cell_type": "code",
   "execution_count": 101,
   "metadata": {},
   "outputs": [
    {
     "data": {
      "text/plain": [
       "ArangoDB collection name: wifiQuebec, id: 28659360, type: document, status: loaded"
      ]
     },
     "execution_count": 101,
     "metadata": {},
     "output_type": "execute_result"
    }
   ],
   "source": [
    "db[\"wifiQuebec\"]"
   ]
  },
  {
   "cell_type": "code",
   "execution_count": 94,
   "metadata": {
    "collapsed": true
   },
   "outputs": [],
   "source": [
    "df = pd.read_csv(\"DATA/wifi.csv\",sep =';',header = 0)"
   ]
  },
  {
   "cell_type": "code",
   "execution_count": 95,
   "metadata": {},
   "outputs": [
    {
     "data": {
      "text/html": [
       "<div>\n",
       "<style>\n",
       "    .dataframe thead tr:only-child th {\n",
       "        text-align: right;\n",
       "    }\n",
       "\n",
       "    .dataframe thead th {\n",
       "        text-align: left;\n",
       "    }\n",
       "\n",
       "    .dataframe tbody tr th {\n",
       "        vertical-align: top;\n",
       "    }\n",
       "</style>\n",
       "<table border=\"1\" class=\"dataframe\">\n",
       "  <thead>\n",
       "    <tr style=\"text-align: right;\">\n",
       "      <th></th>\n",
       "      <th>ARROND</th>\n",
       "      <th>NO_CIV</th>\n",
       "      <th>NOM_BATI</th>\n",
       "      <th>RUE</th>\n",
       "      <th>LONGITUDE</th>\n",
       "      <th>LATITUDE</th>\n",
       "    </tr>\n",
       "  </thead>\n",
       "  <tbody>\n",
       "    <tr>\n",
       "      <th>0</th>\n",
       "      <td>Sainte-Foy–Sillery–Cap-Rouge</td>\n",
       "      <td>999.0</td>\n",
       "      <td>Bibliothèque Monique-Corriveau</td>\n",
       "      <td>Avenue Roland-Beaudin</td>\n",
       "      <td>-71.297429</td>\n",
       "      <td>46.772520</td>\n",
       "    </tr>\n",
       "    <tr>\n",
       "      <th>1</th>\n",
       "      <td>Charlesbourg</td>\n",
       "      <td>7950.0</td>\n",
       "      <td>Bibliothèque de Charlesbourg</td>\n",
       "      <td>1ière Avenue</td>\n",
       "      <td>-71.268858</td>\n",
       "      <td>46.860799</td>\n",
       "    </tr>\n",
       "    <tr>\n",
       "      <th>2</th>\n",
       "      <td>Sainte-Foy–Sillery–Cap-Rouge</td>\n",
       "      <td>1445.0</td>\n",
       "      <td>Bibliothèque Charles-H.-Blais</td>\n",
       "      <td>Avenue Maguire</td>\n",
       "      <td>-71.250453</td>\n",
       "      <td>46.779477</td>\n",
       "    </tr>\n",
       "    <tr>\n",
       "      <th>3</th>\n",
       "      <td>Charlesbourg</td>\n",
       "      <td>750.0</td>\n",
       "      <td>Aréna Arpidrome de Charlesbourg</td>\n",
       "      <td>Rue de la Sorbonne</td>\n",
       "      <td>-71.257053</td>\n",
       "      <td>46.864423</td>\n",
       "    </tr>\n",
       "    <tr>\n",
       "      <th>4</th>\n",
       "      <td>Sainte-Foy–Sillery–Cap-Rouge</td>\n",
       "      <td>3020.0</td>\n",
       "      <td>Piscine Sylvie Bernier</td>\n",
       "      <td>Boulevard Hochelaga</td>\n",
       "      <td>-71.298293</td>\n",
       "      <td>46.767141</td>\n",
       "    </tr>\n",
       "  </tbody>\n",
       "</table>\n",
       "</div>"
      ],
      "text/plain": [
       "                         ARROND  NO_CIV                         NOM_BATI  \\\n",
       "0  Sainte-Foy–Sillery–Cap-Rouge   999.0   Bibliothèque Monique-Corriveau   \n",
       "1                  Charlesbourg  7950.0     Bibliothèque de Charlesbourg   \n",
       "2  Sainte-Foy–Sillery–Cap-Rouge  1445.0    Bibliothèque Charles-H.-Blais   \n",
       "3                  Charlesbourg   750.0  Aréna Arpidrome de Charlesbourg   \n",
       "4  Sainte-Foy–Sillery–Cap-Rouge  3020.0           Piscine Sylvie Bernier   \n",
       "\n",
       "                     RUE  LONGITUDE   LATITUDE  \n",
       "0  Avenue Roland-Beaudin -71.297429  46.772520  \n",
       "1           1ière Avenue -71.268858  46.860799  \n",
       "2         Avenue Maguire -71.250453  46.779477  \n",
       "3     Rue de la Sorbonne -71.257053  46.864423  \n",
       "4    Boulevard Hochelaga -71.298293  46.767141  "
      ]
     },
     "execution_count": 95,
     "metadata": {},
     "output_type": "execute_result"
    }
   ],
   "source": [
    "df.head()"
   ]
  },
  {
   "cell_type": "code",
   "execution_count": 102,
   "metadata": {},
   "outputs": [
    {
     "name": "stdout",
     "output_type": "stream",
     "text": [
      "<class 'pandas.core.frame.DataFrame'>\n",
      "RangeIndex: 58 entries, 0 to 57\n",
      "Data columns (total 6 columns):\n",
      "ARROND       56 non-null object\n",
      "NO_CIV       55 non-null float64\n",
      "NOM_BATI     58 non-null object\n",
      "RUE          57 non-null object\n",
      "LONGITUDE    54 non-null float64\n",
      "LATITUDE     54 non-null float64\n",
      "dtypes: float64(3), object(3)\n",
      "memory usage: 2.8+ KB\n"
     ]
    }
   ],
   "source": [
    "df.info()"
   ]
  },
  {
   "cell_type": "code",
   "execution_count": 97,
   "metadata": {},
   "outputs": [],
   "source": [
    "data=df.dropna()"
   ]
  },
  {
   "cell_type": "code",
   "execution_count": 103,
   "metadata": {},
   "outputs": [
    {
     "name": "stdout",
     "output_type": "stream",
     "text": [
      "<class 'pandas.core.frame.DataFrame'>\n",
      "Int64Index: 50 entries, 0 to 57\n",
      "Data columns (total 6 columns):\n",
      "ARROND       50 non-null object\n",
      "NO_CIV       50 non-null float64\n",
      "NOM_BATI     50 non-null object\n",
      "RUE          50 non-null object\n",
      "LONGITUDE    50 non-null float64\n",
      "LATITUDE     50 non-null float64\n",
      "dtypes: float64(3), object(3)\n",
      "memory usage: 2.7+ KB\n"
     ]
    }
   ],
   "source": [
    "data.info()"
   ]
  },
  {
   "cell_type": "code",
   "execution_count": 104,
   "metadata": {},
   "outputs": [],
   "source": [
    "for item, row in data.iterrows():\n",
    "    doc = wifiCollection.createDocument()\n",
    "    doc['ARROND'] = row['ARROND']\n",
    "    doc['NO_CIV'] = row['NO_CIV']\n",
    "    doc['NOM_BATI'] =  row['NOM_BATI']\n",
    "    doc['RUE'] = row['RUE']  \n",
    "    doc['COORDINATES']= \"[{0},{1}]\".format( row['LATITUDE'], row['LONGITUDE'])\n",
    "    doc['LONGITUDE'] = row['LONGITUDE']\n",
    "    doc['LATITUDE'] =row['LATITUDE']  \n",
    "    doc.save()\n",
    "\n"
   ]
  },
  {
   "cell_type": "code",
   "execution_count": null,
   "metadata": {
    "collapsed": true
   },
   "outputs": [],
   "source": []
  }
 ],
 "metadata": {
  "kernelspec": {
   "display_name": "Python 3",
   "language": "python",
   "name": "python3"
  },
  "language_info": {
   "codemirror_mode": {
    "name": "ipython",
    "version": 3
   },
   "file_extension": ".py",
   "mimetype": "text/x-python",
   "name": "python",
   "nbconvert_exporter": "python",
   "pygments_lexer": "ipython3",
   "version": "3.6.3"
  }
 },
 "nbformat": 4,
 "nbformat_minor": 2
}
